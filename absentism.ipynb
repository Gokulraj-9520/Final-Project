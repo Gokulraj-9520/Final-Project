{
 "cells": [
  {
   "cell_type": "code",
   "execution_count": 1,
   "id": "042b5d02",
   "metadata": {},
   "outputs": [],
   "source": [
    "import pandas as pd\n",
    "import warnings\n",
    "warnings.filterwarnings(\"ignore\")\n",
    "from sklearn.preprocessing import OrdinalEncoder,MinMaxScaler, StandardScaler\n",
    "from sklearn.model_selection import train_test_split, GridSearchCV\n",
    "from sklearn.linear_model import LinearRegression\n",
    "from sklearn.svm import SVR\n",
    "from sklearn.tree import DecisionTreeRegressor\n",
    "from sklearn.ensemble import RandomForestRegressor\n",
    "from sklearn.metrics import mean_absolute_error, mean_squared_error,r2_score\n",
    "import matplotlib.pyplot as plt\n",
    "import seaborn as sns\n",
    "import numpy as np\n",
    "\n",
    "%matplotlib inline"
   ]
  },
  {
   "cell_type": "code",
   "execution_count": 2,
   "id": "869b0d02",
   "metadata": {},
   "outputs": [
    {
     "data": {
      "text/html": [
       "<div>\n",
       "<style scoped>\n",
       "    .dataframe tbody tr th:only-of-type {\n",
       "        vertical-align: middle;\n",
       "    }\n",
       "\n",
       "    .dataframe tbody tr th {\n",
       "        vertical-align: top;\n",
       "    }\n",
       "\n",
       "    .dataframe thead th {\n",
       "        text-align: right;\n",
       "    }\n",
       "</style>\n",
       "<table border=\"1\" class=\"dataframe\">\n",
       "  <thead>\n",
       "    <tr style=\"text-align: right;\">\n",
       "      <th></th>\n",
       "      <th>EmployeeNumber</th>\n",
       "      <th>Surname</th>\n",
       "      <th>GivenName</th>\n",
       "      <th>Gender</th>\n",
       "      <th>City</th>\n",
       "      <th>JobTitle</th>\n",
       "      <th>DepartmentName</th>\n",
       "      <th>StoreLocation</th>\n",
       "      <th>Division</th>\n",
       "      <th>Age</th>\n",
       "      <th>LengthService</th>\n",
       "      <th>AbsentHours</th>\n",
       "      <th>BusinessUnit</th>\n",
       "    </tr>\n",
       "  </thead>\n",
       "  <tbody>\n",
       "    <tr>\n",
       "      <th>0</th>\n",
       "      <td>1</td>\n",
       "      <td>Gutierrez</td>\n",
       "      <td>Molly</td>\n",
       "      <td>F</td>\n",
       "      <td>Burnaby</td>\n",
       "      <td>Baker</td>\n",
       "      <td>Bakery</td>\n",
       "      <td>Burnaby</td>\n",
       "      <td>Stores</td>\n",
       "      <td>32.028816</td>\n",
       "      <td>6.018478</td>\n",
       "      <td>36.577306</td>\n",
       "      <td>Stores</td>\n",
       "    </tr>\n",
       "    <tr>\n",
       "      <th>1</th>\n",
       "      <td>2</td>\n",
       "      <td>Hardwick</td>\n",
       "      <td>Stephen</td>\n",
       "      <td>M</td>\n",
       "      <td>Courtenay</td>\n",
       "      <td>Baker</td>\n",
       "      <td>Bakery</td>\n",
       "      <td>Nanaimo</td>\n",
       "      <td>Stores</td>\n",
       "      <td>40.320902</td>\n",
       "      <td>5.532445</td>\n",
       "      <td>30.165072</td>\n",
       "      <td>Stores</td>\n",
       "    </tr>\n",
       "    <tr>\n",
       "      <th>2</th>\n",
       "      <td>3</td>\n",
       "      <td>Delgado</td>\n",
       "      <td>Chester</td>\n",
       "      <td>M</td>\n",
       "      <td>Richmond</td>\n",
       "      <td>Baker</td>\n",
       "      <td>Bakery</td>\n",
       "      <td>Richmond</td>\n",
       "      <td>Stores</td>\n",
       "      <td>48.822047</td>\n",
       "      <td>4.389973</td>\n",
       "      <td>83.807798</td>\n",
       "      <td>Stores</td>\n",
       "    </tr>\n",
       "    <tr>\n",
       "      <th>3</th>\n",
       "      <td>4</td>\n",
       "      <td>Simon</td>\n",
       "      <td>Irene</td>\n",
       "      <td>F</td>\n",
       "      <td>Victoria</td>\n",
       "      <td>Baker</td>\n",
       "      <td>Bakery</td>\n",
       "      <td>Victoria</td>\n",
       "      <td>Stores</td>\n",
       "      <td>44.599357</td>\n",
       "      <td>3.081736</td>\n",
       "      <td>70.020165</td>\n",
       "      <td>Stores</td>\n",
       "    </tr>\n",
       "    <tr>\n",
       "      <th>4</th>\n",
       "      <td>5</td>\n",
       "      <td>Delvalle</td>\n",
       "      <td>Edward</td>\n",
       "      <td>M</td>\n",
       "      <td>New Westminster</td>\n",
       "      <td>Baker</td>\n",
       "      <td>Bakery</td>\n",
       "      <td>New Westminster</td>\n",
       "      <td>Stores</td>\n",
       "      <td>35.697876</td>\n",
       "      <td>3.619091</td>\n",
       "      <td>0.000000</td>\n",
       "      <td>Stores</td>\n",
       "    </tr>\n",
       "  </tbody>\n",
       "</table>\n",
       "</div>"
      ],
      "text/plain": [
       "   EmployeeNumber    Surname GivenName Gender             City JobTitle  \\\n",
       "0               1  Gutierrez     Molly      F          Burnaby    Baker   \n",
       "1               2   Hardwick   Stephen      M        Courtenay    Baker   \n",
       "2               3    Delgado   Chester      M         Richmond    Baker   \n",
       "3               4      Simon     Irene      F         Victoria    Baker   \n",
       "4               5   Delvalle    Edward      M  New Westminster    Baker   \n",
       "\n",
       "  DepartmentName    StoreLocation Division        Age  LengthService  \\\n",
       "0         Bakery          Burnaby   Stores  32.028816       6.018478   \n",
       "1         Bakery          Nanaimo   Stores  40.320902       5.532445   \n",
       "2         Bakery         Richmond   Stores  48.822047       4.389973   \n",
       "3         Bakery         Victoria   Stores  44.599357       3.081736   \n",
       "4         Bakery  New Westminster   Stores  35.697876       3.619091   \n",
       "\n",
       "   AbsentHours BusinessUnit  \n",
       "0    36.577306       Stores  \n",
       "1    30.165072       Stores  \n",
       "2    83.807798       Stores  \n",
       "3    70.020165       Stores  \n",
       "4     0.000000       Stores  "
      ]
     },
     "execution_count": 2,
     "metadata": {},
     "output_type": "execute_result"
    }
   ],
   "source": [
    "df=pd.read_csv(\"./MFGEmployees4.csv\")\n",
    "df.head()"
   ]
  },
  {
   "cell_type": "code",
   "execution_count": 3,
   "id": "7264be1b",
   "metadata": {},
   "outputs": [
    {
     "data": {
      "text/plain": [
       "['F', 'M']"
      ]
     },
     "execution_count": 3,
     "metadata": {},
     "output_type": "execute_result"
    }
   ],
   "source": [
    "sorted(df['Gender'].unique())"
   ]
  },
  {
   "cell_type": "code",
   "execution_count": 4,
   "id": "e033c71b",
   "metadata": {},
   "outputs": [
    {
     "data": {
      "text/plain": [
       "['Abbotsford',\n",
       " 'Agassiz',\n",
       " 'Aiyansh',\n",
       " 'Aldergrove',\n",
       " 'Alexis Creek',\n",
       " 'Alkali Lake',\n",
       " 'Armstrong',\n",
       " 'Ashcroft',\n",
       " 'Atlin',\n",
       " 'Avola',\n",
       " 'Balfour',\n",
       " 'Bamfield',\n",
       " 'Barriere',\n",
       " 'Bear Lake',\n",
       " 'Beaver Valley',\n",
       " 'Bella Bella',\n",
       " 'Black Point',\n",
       " 'Black Pool',\n",
       " 'Blue River',\n",
       " 'Blueberry',\n",
       " 'Bob Quinn Lake',\n",
       " 'Boston Bar',\n",
       " 'Bouchie Lake',\n",
       " 'Bougie Creek',\n",
       " 'Bowen Island',\n",
       " 'Brackendale',\n",
       " 'Bridge Lake',\n",
       " 'Britannia Beach',\n",
       " 'Burnaby',\n",
       " 'Burns Lake',\n",
       " 'Cache Creek',\n",
       " 'Campbell River',\n",
       " 'Canal Flats',\n",
       " 'Cassiar',\n",
       " 'Castlegar',\n",
       " 'Celista',\n",
       " 'Chase',\n",
       " 'Chemainus',\n",
       " 'Chetwynd',\n",
       " 'Chief Lake',\n",
       " 'Chilako River',\n",
       " 'Chilanko Forks',\n",
       " 'Chilliwack',\n",
       " 'Christina Lake',\n",
       " 'Clearwater',\n",
       " 'Clinton',\n",
       " 'Cluculz Lake',\n",
       " 'Cobble Hill',\n",
       " 'Comox',\n",
       " 'Coquitlam',\n",
       " 'Cortes Island',\n",
       " 'Courtenay',\n",
       " 'Cranbrook',\n",
       " 'Crawford Bay',\n",
       " 'Creston',\n",
       " 'Cumberland',\n",
       " \"D'arcy\",\n",
       " 'Dawson Creek',\n",
       " 'Dease Lake',\n",
       " 'Decker Lake',\n",
       " 'Douglas Lake',\n",
       " 'Dragon Lake',\n",
       " 'Duncan',\n",
       " 'Elkford',\n",
       " 'Elko',\n",
       " 'Enderby',\n",
       " 'Fairmont Hot Springs',\n",
       " 'Fauquier',\n",
       " 'Fernie',\n",
       " 'Field',\n",
       " 'Flatrock',\n",
       " 'Forest Grove',\n",
       " 'Fort Fraser',\n",
       " 'Fort Langley',\n",
       " 'Fort Nelson',\n",
       " 'Fort St James',\n",
       " 'Fort St John',\n",
       " 'Francois Lake',\n",
       " 'Fraser Lake',\n",
       " 'Fruitvale',\n",
       " 'Fulford Harbour',\n",
       " 'Gabriola Island',\n",
       " 'Ganges',\n",
       " 'Genelle',\n",
       " 'Gibsons',\n",
       " 'Giscome',\n",
       " 'Gold Bridge',\n",
       " 'Golden',\n",
       " 'Good Hope Lake',\n",
       " 'Grand Forks',\n",
       " 'Granisle',\n",
       " 'Grasmere',\n",
       " 'Grassy Plains',\n",
       " 'Greenwood',\n",
       " 'Haney',\n",
       " 'Hansard',\n",
       " 'Hazelton',\n",
       " 'Hedley',\n",
       " 'Hemlock Valley',\n",
       " 'Hixon',\n",
       " 'Hope',\n",
       " 'Horsefly',\n",
       " 'Houston',\n",
       " 'Huntingdon',\n",
       " 'Invermere',\n",
       " 'Iskut',\n",
       " 'Jaffray',\n",
       " 'Kamloops',\n",
       " 'Kaslo',\n",
       " 'Kelowna',\n",
       " 'Keremeos',\n",
       " 'Kimberley',\n",
       " 'Kitimat',\n",
       " 'Kitwanga',\n",
       " 'Klemtu',\n",
       " 'Lac La Hache',\n",
       " 'Ladysmith',\n",
       " 'Lake Cowichan',\n",
       " 'Lakelse Lake',\n",
       " 'Lakeview Heights',\n",
       " 'Langley',\n",
       " 'Likely',\n",
       " 'Lillooet',\n",
       " 'Little Fort',\n",
       " 'Logan Lake',\n",
       " 'Lower Post',\n",
       " 'Lumby',\n",
       " 'Lytton',\n",
       " 'Mackenzie',\n",
       " 'Manning Park',\n",
       " 'Mayne Island',\n",
       " 'Mcbride',\n",
       " 'Mcleese Lake',\n",
       " 'Merritt',\n",
       " 'Mica Creek',\n",
       " 'Midway',\n",
       " 'Mission',\n",
       " 'Montney',\n",
       " 'Muncho Lake',\n",
       " 'Nakusp',\n",
       " 'Nanaimo',\n",
       " 'Nelson',\n",
       " 'New Westminister',\n",
       " 'New Westminster',\n",
       " 'Nimpo Lake',\n",
       " 'North Pender Island',\n",
       " 'North Vancouver',\n",
       " 'Ocean Falls',\n",
       " 'Okanagan Falls',\n",
       " 'Okanagan Mission',\n",
       " 'Oliver',\n",
       " 'Osoyoos',\n",
       " 'Oyama',\n",
       " 'Oyster River',\n",
       " 'Parksville',\n",
       " 'Parson',\n",
       " 'Peachland',\n",
       " 'Pemberton',\n",
       " 'Pender Harbour',\n",
       " 'Penticton',\n",
       " 'Pitt Meadows',\n",
       " 'Port Alberni',\n",
       " 'Port Alice',\n",
       " 'Port Coquitlam',\n",
       " 'Port Edward',\n",
       " 'Port Hardy',\n",
       " 'Port Mcneill',\n",
       " 'Port Mellon',\n",
       " 'Port Renfrew',\n",
       " 'Pouce Coupe',\n",
       " 'Powell River',\n",
       " 'Prince George',\n",
       " 'Princeton',\n",
       " 'Pritchard',\n",
       " 'Quadra Island',\n",
       " 'Qualicum Beach',\n",
       " 'Quesnel',\n",
       " 'Radium Hot Springs',\n",
       " 'Revelstoke',\n",
       " 'Richmond',\n",
       " 'Riske Creek',\n",
       " 'Rock Creek',\n",
       " 'Rosedale',\n",
       " 'Rossland',\n",
       " 'Rutland',\n",
       " 'Salmo',\n",
       " 'Salmon Arm',\n",
       " 'Salmon Valley',\n",
       " 'Sandspit',\n",
       " 'Sardis',\n",
       " 'Sayward',\n",
       " 'Sechelt',\n",
       " 'Seton Portage',\n",
       " 'Sicamous',\n",
       " 'Sidney',\n",
       " 'Skookumchuck',\n",
       " 'Slocan',\n",
       " 'Smithers',\n",
       " 'Sooke',\n",
       " 'Sorrento',\n",
       " 'South Slocan',\n",
       " 'Sparwood',\n",
       " 'Spences Bridge',\n",
       " 'Spillimacheen',\n",
       " 'Squamish',\n",
       " 'Summerland',\n",
       " 'Surrey',\n",
       " 'Tappen',\n",
       " 'Tatla Lake',\n",
       " 'Taylor',\n",
       " 'Telegraph Creek',\n",
       " 'Terrace',\n",
       " 'Toad River',\n",
       " 'Tofino',\n",
       " 'Topley',\n",
       " 'Trail',\n",
       " 'Tumbler Ridge',\n",
       " 'Ucluelet',\n",
       " 'Union Bay',\n",
       " 'Valemount',\n",
       " 'Vallican',\n",
       " 'Vananda',\n",
       " 'Vancouver',\n",
       " 'Vanderhoof',\n",
       " 'Vavenby',\n",
       " 'Vernon',\n",
       " 'Victoria',\n",
       " 'Wells',\n",
       " 'West Vancouver',\n",
       " 'Westbank',\n",
       " 'Westwold',\n",
       " 'Whistler',\n",
       " 'White Rock',\n",
       " 'Wildwood',\n",
       " 'Williams Lake',\n",
       " 'Willow Point',\n",
       " 'Winfield',\n",
       " 'Woss',\n",
       " 'Wynndel',\n",
       " 'Yahk',\n",
       " 'Yale',\n",
       " 'Yarrow',\n",
       " 'Youbou']"
      ]
     },
     "execution_count": 4,
     "metadata": {},
     "output_type": "execute_result"
    }
   ],
   "source": [
    "sorted(df['City'].unique())"
   ]
  },
  {
   "cell_type": "code",
   "execution_count": 5,
   "id": "820f6efe",
   "metadata": {},
   "outputs": [
    {
     "data": {
      "text/plain": [
       "47"
      ]
     },
     "execution_count": 5,
     "metadata": {},
     "output_type": "execute_result"
    }
   ],
   "source": [
    "len(sorted(df['JobTitle'].unique()))"
   ]
  },
  {
   "cell_type": "code",
   "execution_count": 6,
   "id": "4581dc2a",
   "metadata": {},
   "outputs": [
    {
     "data": {
      "text/plain": [
       "['Accounting',\n",
       " 'Accounts Payable',\n",
       " 'Accounts Receiveable',\n",
       " 'Audit',\n",
       " 'Bakery',\n",
       " 'Compensation',\n",
       " 'Customer Service',\n",
       " 'Dairy',\n",
       " 'Employee Records',\n",
       " 'Executive',\n",
       " 'HR Technology',\n",
       " 'Information Technology',\n",
       " 'Investment',\n",
       " 'Labor Relations',\n",
       " 'Legal',\n",
       " 'Meats',\n",
       " 'Processed Foods',\n",
       " 'Produce',\n",
       " 'Recruitment',\n",
       " 'Store Management',\n",
       " 'Training']"
      ]
     },
     "execution_count": 6,
     "metadata": {},
     "output_type": "execute_result"
    }
   ],
   "source": [
    "sorted(df['DepartmentName'].unique())"
   ]
  },
  {
   "cell_type": "code",
   "execution_count": 7,
   "id": "ed0ae9cc",
   "metadata": {},
   "outputs": [
    {
     "data": {
      "text/plain": [
       "['Abbotsford',\n",
       " 'Aldergrove',\n",
       " 'Bella Bella',\n",
       " 'Blue River',\n",
       " 'Burnaby',\n",
       " 'Chilliwack',\n",
       " 'Cortes Island',\n",
       " 'Cranbrook',\n",
       " 'Dawson Creek',\n",
       " 'Dease Lake',\n",
       " 'Fort Nelson',\n",
       " 'Fort St John',\n",
       " 'Grand Forks',\n",
       " 'Haney',\n",
       " 'Kamloops',\n",
       " 'Kelowna',\n",
       " 'Langley',\n",
       " 'Nanaimo',\n",
       " 'Nelson',\n",
       " 'New Westminister',\n",
       " 'New Westminster',\n",
       " 'North Vancouver',\n",
       " 'Ocean Falls',\n",
       " 'Pitt Meadows',\n",
       " 'Port Coquitlam',\n",
       " 'Prince George',\n",
       " 'Princeton',\n",
       " 'Quesnel',\n",
       " 'Richmond',\n",
       " 'Squamish',\n",
       " 'Surrey',\n",
       " 'Terrace',\n",
       " 'Trail',\n",
       " 'Valemount',\n",
       " 'Vancouver',\n",
       " 'Vernon',\n",
       " 'Victoria',\n",
       " 'West Vancouver',\n",
       " 'White Rock',\n",
       " 'Williams Lake']"
      ]
     },
     "execution_count": 7,
     "metadata": {},
     "output_type": "execute_result"
    }
   ],
   "source": [
    "sorted(df['StoreLocation'].unique())"
   ]
  },
  {
   "cell_type": "code",
   "execution_count": 8,
   "id": "dbcc7d3b",
   "metadata": {},
   "outputs": [
    {
     "data": {
      "text/plain": [
       "['Executive',\n",
       " 'FinanceAndAccounting',\n",
       " 'HumanResources',\n",
       " 'InfoTech',\n",
       " 'Legal',\n",
       " 'Stores']"
      ]
     },
     "execution_count": 8,
     "metadata": {},
     "output_type": "execute_result"
    }
   ],
   "source": [
    "sorted(df['Division'].unique())"
   ]
  },
  {
   "cell_type": "code",
   "execution_count": 9,
   "id": "341c0ae9",
   "metadata": {},
   "outputs": [
    {
     "data": {
      "text/plain": [
       "count    8336.000000\n",
       "mean       42.007086\n",
       "std         9.939798\n",
       "min         3.504743\n",
       "25%        35.298748\n",
       "50%        42.114924\n",
       "75%        48.666943\n",
       "max        77.938003\n",
       "Name: Age, dtype: float64"
      ]
     },
     "execution_count": 9,
     "metadata": {},
     "output_type": "execute_result"
    }
   ],
   "source": [
    "df['Age'].describe()"
   ]
  },
  {
   "cell_type": "code",
   "execution_count": 10,
   "id": "7c2da164",
   "metadata": {},
   "outputs": [
    {
     "data": {
      "text/plain": [
       "count    8336.000000\n",
       "mean       61.283978\n",
       "std        49.038365\n",
       "min         0.000000\n",
       "25%        19.127590\n",
       "50%        56.005808\n",
       "75%        94.284692\n",
       "max       272.530123\n",
       "Name: AbsentHours, dtype: float64"
      ]
     },
     "execution_count": 10,
     "metadata": {},
     "output_type": "execute_result"
    }
   ],
   "source": [
    "df['AbsentHours'].describe()"
   ]
  },
  {
   "cell_type": "code",
   "execution_count": 11,
   "id": "10a94fe5",
   "metadata": {},
   "outputs": [
    {
     "data": {
      "text/plain": [
       "['HeadOffice', 'Stores']"
      ]
     },
     "execution_count": 11,
     "metadata": {},
     "output_type": "execute_result"
    }
   ],
   "source": [
    "sorted(df['BusinessUnit'].unique())"
   ]
  },
  {
   "cell_type": "code",
   "execution_count": 12,
   "id": "8c587d67",
   "metadata": {},
   "outputs": [],
   "source": [
    "dff=df.copy()"
   ]
  },
  {
   "cell_type": "code",
   "execution_count": 13,
   "id": "f630fd87",
   "metadata": {},
   "outputs": [],
   "source": [
    "ordinal=['Gender','City','JobTitle','DepartmentName','StoreLocation','Division','BusinessUnit']"
   ]
  },
  {
   "cell_type": "code",
   "execution_count": 14,
   "id": "fc4f6c25",
   "metadata": {},
   "outputs": [],
   "source": [
    "oe=OrdinalEncoder()\n",
    "dff[ordinal]=oe.fit_transform(dff[ordinal])"
   ]
  },
  {
   "cell_type": "code",
   "execution_count": 15,
   "id": "61c31b3f",
   "metadata": {},
   "outputs": [
    {
     "data": {
      "text/html": [
       "<div>\n",
       "<style scoped>\n",
       "    .dataframe tbody tr th:only-of-type {\n",
       "        vertical-align: middle;\n",
       "    }\n",
       "\n",
       "    .dataframe tbody tr th {\n",
       "        vertical-align: top;\n",
       "    }\n",
       "\n",
       "    .dataframe thead th {\n",
       "        text-align: right;\n",
       "    }\n",
       "</style>\n",
       "<table border=\"1\" class=\"dataframe\">\n",
       "  <thead>\n",
       "    <tr style=\"text-align: right;\">\n",
       "      <th></th>\n",
       "      <th>EmployeeNumber</th>\n",
       "      <th>Surname</th>\n",
       "      <th>GivenName</th>\n",
       "      <th>Gender</th>\n",
       "      <th>City</th>\n",
       "      <th>JobTitle</th>\n",
       "      <th>DepartmentName</th>\n",
       "      <th>StoreLocation</th>\n",
       "      <th>Division</th>\n",
       "      <th>Age</th>\n",
       "      <th>LengthService</th>\n",
       "      <th>AbsentHours</th>\n",
       "      <th>BusinessUnit</th>\n",
       "    </tr>\n",
       "  </thead>\n",
       "  <tbody>\n",
       "    <tr>\n",
       "      <th>0</th>\n",
       "      <td>1</td>\n",
       "      <td>Gutierrez</td>\n",
       "      <td>Molly</td>\n",
       "      <td>0.0</td>\n",
       "      <td>28.0</td>\n",
       "      <td>4.0</td>\n",
       "      <td>4.0</td>\n",
       "      <td>4.0</td>\n",
       "      <td>5.0</td>\n",
       "      <td>32.028816</td>\n",
       "      <td>6.018478</td>\n",
       "      <td>36.577306</td>\n",
       "      <td>1.0</td>\n",
       "    </tr>\n",
       "    <tr>\n",
       "      <th>1</th>\n",
       "      <td>2</td>\n",
       "      <td>Hardwick</td>\n",
       "      <td>Stephen</td>\n",
       "      <td>1.0</td>\n",
       "      <td>51.0</td>\n",
       "      <td>4.0</td>\n",
       "      <td>4.0</td>\n",
       "      <td>17.0</td>\n",
       "      <td>5.0</td>\n",
       "      <td>40.320902</td>\n",
       "      <td>5.532445</td>\n",
       "      <td>30.165072</td>\n",
       "      <td>1.0</td>\n",
       "    </tr>\n",
       "    <tr>\n",
       "      <th>2</th>\n",
       "      <td>3</td>\n",
       "      <td>Delgado</td>\n",
       "      <td>Chester</td>\n",
       "      <td>1.0</td>\n",
       "      <td>179.0</td>\n",
       "      <td>4.0</td>\n",
       "      <td>4.0</td>\n",
       "      <td>28.0</td>\n",
       "      <td>5.0</td>\n",
       "      <td>48.822047</td>\n",
       "      <td>4.389973</td>\n",
       "      <td>83.807798</td>\n",
       "      <td>1.0</td>\n",
       "    </tr>\n",
       "    <tr>\n",
       "      <th>3</th>\n",
       "      <td>4</td>\n",
       "      <td>Simon</td>\n",
       "      <td>Irene</td>\n",
       "      <td>0.0</td>\n",
       "      <td>226.0</td>\n",
       "      <td>4.0</td>\n",
       "      <td>4.0</td>\n",
       "      <td>36.0</td>\n",
       "      <td>5.0</td>\n",
       "      <td>44.599357</td>\n",
       "      <td>3.081736</td>\n",
       "      <td>70.020165</td>\n",
       "      <td>1.0</td>\n",
       "    </tr>\n",
       "    <tr>\n",
       "      <th>4</th>\n",
       "      <td>5</td>\n",
       "      <td>Delvalle</td>\n",
       "      <td>Edward</td>\n",
       "      <td>1.0</td>\n",
       "      <td>143.0</td>\n",
       "      <td>4.0</td>\n",
       "      <td>4.0</td>\n",
       "      <td>20.0</td>\n",
       "      <td>5.0</td>\n",
       "      <td>35.697876</td>\n",
       "      <td>3.619091</td>\n",
       "      <td>0.000000</td>\n",
       "      <td>1.0</td>\n",
       "    </tr>\n",
       "  </tbody>\n",
       "</table>\n",
       "</div>"
      ],
      "text/plain": [
       "   EmployeeNumber    Surname GivenName  Gender   City  JobTitle  \\\n",
       "0               1  Gutierrez     Molly     0.0   28.0       4.0   \n",
       "1               2   Hardwick   Stephen     1.0   51.0       4.0   \n",
       "2               3    Delgado   Chester     1.0  179.0       4.0   \n",
       "3               4      Simon     Irene     0.0  226.0       4.0   \n",
       "4               5   Delvalle    Edward     1.0  143.0       4.0   \n",
       "\n",
       "   DepartmentName  StoreLocation  Division        Age  LengthService  \\\n",
       "0             4.0            4.0       5.0  32.028816       6.018478   \n",
       "1             4.0           17.0       5.0  40.320902       5.532445   \n",
       "2             4.0           28.0       5.0  48.822047       4.389973   \n",
       "3             4.0           36.0       5.0  44.599357       3.081736   \n",
       "4             4.0           20.0       5.0  35.697876       3.619091   \n",
       "\n",
       "   AbsentHours  BusinessUnit  \n",
       "0    36.577306           1.0  \n",
       "1    30.165072           1.0  \n",
       "2    83.807798           1.0  \n",
       "3    70.020165           1.0  \n",
       "4     0.000000           1.0  "
      ]
     },
     "execution_count": 15,
     "metadata": {},
     "output_type": "execute_result"
    }
   ],
   "source": [
    "dff.head()"
   ]
  },
  {
   "cell_type": "code",
   "execution_count": 16,
   "id": "b8b07b67",
   "metadata": {},
   "outputs": [],
   "source": [
    "drop_column=['EmployeeNumber','Surname','GivenName']\n",
    "dff.drop(drop_column, axis=1,inplace=True)"
   ]
  },
  {
   "cell_type": "code",
   "execution_count": 17,
   "id": "9071cdbc",
   "metadata": {},
   "outputs": [
    {
     "data": {
      "text/html": [
       "<div>\n",
       "<style scoped>\n",
       "    .dataframe tbody tr th:only-of-type {\n",
       "        vertical-align: middle;\n",
       "    }\n",
       "\n",
       "    .dataframe tbody tr th {\n",
       "        vertical-align: top;\n",
       "    }\n",
       "\n",
       "    .dataframe thead th {\n",
       "        text-align: right;\n",
       "    }\n",
       "</style>\n",
       "<table border=\"1\" class=\"dataframe\">\n",
       "  <thead>\n",
       "    <tr style=\"text-align: right;\">\n",
       "      <th></th>\n",
       "      <th>Gender</th>\n",
       "      <th>City</th>\n",
       "      <th>JobTitle</th>\n",
       "      <th>DepartmentName</th>\n",
       "      <th>StoreLocation</th>\n",
       "      <th>Division</th>\n",
       "      <th>Age</th>\n",
       "      <th>LengthService</th>\n",
       "      <th>AbsentHours</th>\n",
       "      <th>BusinessUnit</th>\n",
       "    </tr>\n",
       "  </thead>\n",
       "  <tbody>\n",
       "    <tr>\n",
       "      <th>0</th>\n",
       "      <td>0.0</td>\n",
       "      <td>28.0</td>\n",
       "      <td>4.0</td>\n",
       "      <td>4.0</td>\n",
       "      <td>4.0</td>\n",
       "      <td>5.0</td>\n",
       "      <td>32.028816</td>\n",
       "      <td>6.018478</td>\n",
       "      <td>36.577306</td>\n",
       "      <td>1.0</td>\n",
       "    </tr>\n",
       "    <tr>\n",
       "      <th>1</th>\n",
       "      <td>1.0</td>\n",
       "      <td>51.0</td>\n",
       "      <td>4.0</td>\n",
       "      <td>4.0</td>\n",
       "      <td>17.0</td>\n",
       "      <td>5.0</td>\n",
       "      <td>40.320902</td>\n",
       "      <td>5.532445</td>\n",
       "      <td>30.165072</td>\n",
       "      <td>1.0</td>\n",
       "    </tr>\n",
       "    <tr>\n",
       "      <th>2</th>\n",
       "      <td>1.0</td>\n",
       "      <td>179.0</td>\n",
       "      <td>4.0</td>\n",
       "      <td>4.0</td>\n",
       "      <td>28.0</td>\n",
       "      <td>5.0</td>\n",
       "      <td>48.822047</td>\n",
       "      <td>4.389973</td>\n",
       "      <td>83.807798</td>\n",
       "      <td>1.0</td>\n",
       "    </tr>\n",
       "    <tr>\n",
       "      <th>3</th>\n",
       "      <td>0.0</td>\n",
       "      <td>226.0</td>\n",
       "      <td>4.0</td>\n",
       "      <td>4.0</td>\n",
       "      <td>36.0</td>\n",
       "      <td>5.0</td>\n",
       "      <td>44.599357</td>\n",
       "      <td>3.081736</td>\n",
       "      <td>70.020165</td>\n",
       "      <td>1.0</td>\n",
       "    </tr>\n",
       "    <tr>\n",
       "      <th>4</th>\n",
       "      <td>1.0</td>\n",
       "      <td>143.0</td>\n",
       "      <td>4.0</td>\n",
       "      <td>4.0</td>\n",
       "      <td>20.0</td>\n",
       "      <td>5.0</td>\n",
       "      <td>35.697876</td>\n",
       "      <td>3.619091</td>\n",
       "      <td>0.000000</td>\n",
       "      <td>1.0</td>\n",
       "    </tr>\n",
       "  </tbody>\n",
       "</table>\n",
       "</div>"
      ],
      "text/plain": [
       "   Gender   City  JobTitle  DepartmentName  StoreLocation  Division  \\\n",
       "0     0.0   28.0       4.0             4.0            4.0       5.0   \n",
       "1     1.0   51.0       4.0             4.0           17.0       5.0   \n",
       "2     1.0  179.0       4.0             4.0           28.0       5.0   \n",
       "3     0.0  226.0       4.0             4.0           36.0       5.0   \n",
       "4     1.0  143.0       4.0             4.0           20.0       5.0   \n",
       "\n",
       "         Age  LengthService  AbsentHours  BusinessUnit  \n",
       "0  32.028816       6.018478    36.577306           1.0  \n",
       "1  40.320902       5.532445    30.165072           1.0  \n",
       "2  48.822047       4.389973    83.807798           1.0  \n",
       "3  44.599357       3.081736    70.020165           1.0  \n",
       "4  35.697876       3.619091     0.000000           1.0  "
      ]
     },
     "execution_count": 17,
     "metadata": {},
     "output_type": "execute_result"
    }
   ],
   "source": [
    "dff.head()"
   ]
  },
  {
   "cell_type": "code",
   "execution_count": 18,
   "id": "0afd148b",
   "metadata": {},
   "outputs": [],
   "source": [
    "x=dff.drop(\"AbsentHours\", axis=1)\n",
    "y=dff['AbsentHours']"
   ]
  },
  {
   "cell_type": "code",
   "execution_count": 19,
   "id": "10ae3862",
   "metadata": {},
   "outputs": [
    {
     "data": {
      "text/plain": [
       "((6252, 9), (2084, 9))"
      ]
     },
     "execution_count": 19,
     "metadata": {},
     "output_type": "execute_result"
    }
   ],
   "source": [
    "x_train,x_test,y_train,y_test=train_test_split(x,y,test_size=0.25, random_state=1)\n",
    "x_train.shape, x_test.shape"
   ]
  },
  {
   "cell_type": "code",
   "execution_count": 20,
   "id": "11da2114",
   "metadata": {},
   "outputs": [],
   "source": [
    "mm=StandardScaler()\n",
    "x_train_mm=mm.fit_transform(x_train)\n",
    "x_test_mm=mm.fit_transform(x_test)"
   ]
  },
  {
   "cell_type": "markdown",
   "id": "bc4686df",
   "metadata": {},
   "source": [
    "column=x_train.columns"
   ]
  },
  {
   "cell_type": "markdown",
   "id": "6c0f2885",
   "metadata": {},
   "source": [
    "x_train_mm=pd.DataFrame(x_train_mm, columns=column)"
   ]
  },
  {
   "cell_type": "markdown",
   "id": "b9a03a6d",
   "metadata": {},
   "source": [
    "x_train_mm.head()"
   ]
  },
  {
   "cell_type": "code",
   "execution_count": 21,
   "id": "30b9e3df",
   "metadata": {},
   "outputs": [
    {
     "data": {
      "text/html": [
       "<style>#sk-container-id-1 {color: black;}#sk-container-id-1 pre{padding: 0;}#sk-container-id-1 div.sk-toggleable {background-color: white;}#sk-container-id-1 label.sk-toggleable__label {cursor: pointer;display: block;width: 100%;margin-bottom: 0;padding: 0.3em;box-sizing: border-box;text-align: center;}#sk-container-id-1 label.sk-toggleable__label-arrow:before {content: \"▸\";float: left;margin-right: 0.25em;color: #696969;}#sk-container-id-1 label.sk-toggleable__label-arrow:hover:before {color: black;}#sk-container-id-1 div.sk-estimator:hover label.sk-toggleable__label-arrow:before {color: black;}#sk-container-id-1 div.sk-toggleable__content {max-height: 0;max-width: 0;overflow: hidden;text-align: left;background-color: #f0f8ff;}#sk-container-id-1 div.sk-toggleable__content pre {margin: 0.2em;color: black;border-radius: 0.25em;background-color: #f0f8ff;}#sk-container-id-1 input.sk-toggleable__control:checked~div.sk-toggleable__content {max-height: 200px;max-width: 100%;overflow: auto;}#sk-container-id-1 input.sk-toggleable__control:checked~label.sk-toggleable__label-arrow:before {content: \"▾\";}#sk-container-id-1 div.sk-estimator input.sk-toggleable__control:checked~label.sk-toggleable__label {background-color: #d4ebff;}#sk-container-id-1 div.sk-label input.sk-toggleable__control:checked~label.sk-toggleable__label {background-color: #d4ebff;}#sk-container-id-1 input.sk-hidden--visually {border: 0;clip: rect(1px 1px 1px 1px);clip: rect(1px, 1px, 1px, 1px);height: 1px;margin: -1px;overflow: hidden;padding: 0;position: absolute;width: 1px;}#sk-container-id-1 div.sk-estimator {font-family: monospace;background-color: #f0f8ff;border: 1px dotted black;border-radius: 0.25em;box-sizing: border-box;margin-bottom: 0.5em;}#sk-container-id-1 div.sk-estimator:hover {background-color: #d4ebff;}#sk-container-id-1 div.sk-parallel-item::after {content: \"\";width: 100%;border-bottom: 1px solid gray;flex-grow: 1;}#sk-container-id-1 div.sk-label:hover label.sk-toggleable__label {background-color: #d4ebff;}#sk-container-id-1 div.sk-serial::before {content: \"\";position: absolute;border-left: 1px solid gray;box-sizing: border-box;top: 0;bottom: 0;left: 50%;z-index: 0;}#sk-container-id-1 div.sk-serial {display: flex;flex-direction: column;align-items: center;background-color: white;padding-right: 0.2em;padding-left: 0.2em;position: relative;}#sk-container-id-1 div.sk-item {position: relative;z-index: 1;}#sk-container-id-1 div.sk-parallel {display: flex;align-items: stretch;justify-content: center;background-color: white;position: relative;}#sk-container-id-1 div.sk-item::before, #sk-container-id-1 div.sk-parallel-item::before {content: \"\";position: absolute;border-left: 1px solid gray;box-sizing: border-box;top: 0;bottom: 0;left: 50%;z-index: -1;}#sk-container-id-1 div.sk-parallel-item {display: flex;flex-direction: column;z-index: 1;position: relative;background-color: white;}#sk-container-id-1 div.sk-parallel-item:first-child::after {align-self: flex-end;width: 50%;}#sk-container-id-1 div.sk-parallel-item:last-child::after {align-self: flex-start;width: 50%;}#sk-container-id-1 div.sk-parallel-item:only-child::after {width: 0;}#sk-container-id-1 div.sk-dashed-wrapped {border: 1px dashed gray;margin: 0 0.4em 0.5em 0.4em;box-sizing: border-box;padding-bottom: 0.4em;background-color: white;}#sk-container-id-1 div.sk-label label {font-family: monospace;font-weight: bold;display: inline-block;line-height: 1.2em;}#sk-container-id-1 div.sk-label-container {text-align: center;}#sk-container-id-1 div.sk-container {/* jupyter's `normalize.less` sets `[hidden] { display: none; }` but bootstrap.min.css set `[hidden] { display: none !important; }` so we also need the `!important` here to be able to override the default hidden behavior on the sphinx rendered scikit-learn.org. See: https://github.com/scikit-learn/scikit-learn/issues/21755 */display: inline-block !important;position: relative;}#sk-container-id-1 div.sk-text-repr-fallback {display: none;}</style><div id=\"sk-container-id-1\" class=\"sk-top-container\"><div class=\"sk-text-repr-fallback\"><pre>GridSearchCV(estimator=LinearRegression(),\n",
       "             param_grid={&#x27;copy_X&#x27;: [True, False],\n",
       "                         &#x27;fit_intercept&#x27;: [True, False],\n",
       "                         &#x27;positive&#x27;: [True, False]})</pre><b>In a Jupyter environment, please rerun this cell to show the HTML representation or trust the notebook. <br />On GitHub, the HTML representation is unable to render, please try loading this page with nbviewer.org.</b></div><div class=\"sk-container\" hidden><div class=\"sk-item sk-dashed-wrapped\"><div class=\"sk-label-container\"><div class=\"sk-label sk-toggleable\"><input class=\"sk-toggleable__control sk-hidden--visually\" id=\"sk-estimator-id-1\" type=\"checkbox\" ><label for=\"sk-estimator-id-1\" class=\"sk-toggleable__label sk-toggleable__label-arrow\">GridSearchCV</label><div class=\"sk-toggleable__content\"><pre>GridSearchCV(estimator=LinearRegression(),\n",
       "             param_grid={&#x27;copy_X&#x27;: [True, False],\n",
       "                         &#x27;fit_intercept&#x27;: [True, False],\n",
       "                         &#x27;positive&#x27;: [True, False]})</pre></div></div></div><div class=\"sk-parallel\"><div class=\"sk-parallel-item\"><div class=\"sk-item\"><div class=\"sk-label-container\"><div class=\"sk-label sk-toggleable\"><input class=\"sk-toggleable__control sk-hidden--visually\" id=\"sk-estimator-id-2\" type=\"checkbox\" ><label for=\"sk-estimator-id-2\" class=\"sk-toggleable__label sk-toggleable__label-arrow\">estimator: LinearRegression</label><div class=\"sk-toggleable__content\"><pre>LinearRegression()</pre></div></div></div><div class=\"sk-serial\"><div class=\"sk-item\"><div class=\"sk-estimator sk-toggleable\"><input class=\"sk-toggleable__control sk-hidden--visually\" id=\"sk-estimator-id-3\" type=\"checkbox\" ><label for=\"sk-estimator-id-3\" class=\"sk-toggleable__label sk-toggleable__label-arrow\">LinearRegression</label><div class=\"sk-toggleable__content\"><pre>LinearRegression()</pre></div></div></div></div></div></div></div></div></div></div>"
      ],
      "text/plain": [
       "GridSearchCV(estimator=LinearRegression(),\n",
       "             param_grid={'copy_X': [True, False],\n",
       "                         'fit_intercept': [True, False],\n",
       "                         'positive': [True, False]})"
      ]
     },
     "execution_count": 21,
     "metadata": {},
     "output_type": "execute_result"
    }
   ],
   "source": [
    "lr=LinearRegression()\n",
    "lr_params={'fit_intercept':[True,False],'copy_X':[True,False],'positive':[True,False]}\n",
    "grid_lr=GridSearchCV(lr,param_grid=lr_params)\n",
    "grid_lr.fit(x_train_mm,y_train)"
   ]
  },
  {
   "cell_type": "code",
   "execution_count": 22,
   "id": "8c2b6b34",
   "metadata": {},
   "outputs": [
    {
     "data": {
      "text/plain": [
       "{'copy_X': True, 'fit_intercept': True, 'positive': False}"
      ]
     },
     "execution_count": 22,
     "metadata": {},
     "output_type": "execute_result"
    }
   ],
   "source": [
    "grid_lr.best_params_"
   ]
  },
  {
   "cell_type": "code",
   "execution_count": 23,
   "id": "5d52f601",
   "metadata": {},
   "outputs": [
    {
     "data": {
      "text/plain": [
       "0.7255626104902814"
      ]
     },
     "execution_count": 23,
     "metadata": {},
     "output_type": "execute_result"
    }
   ],
   "source": [
    "grid_lr.best_score_"
   ]
  },
  {
   "cell_type": "code",
   "execution_count": null,
   "id": "27b845e0",
   "metadata": {},
   "outputs": [],
   "source": []
  },
  {
   "cell_type": "code",
   "execution_count": 24,
   "id": "230d2fe9",
   "metadata": {},
   "outputs": [],
   "source": [
    "lr_pred=grid_lr.predict(x_test_mm)"
   ]
  },
  {
   "cell_type": "code",
   "execution_count": 25,
   "id": "e5eb1697",
   "metadata": {},
   "outputs": [
    {
     "data": {
      "text/plain": [
       "0.6296751964274256"
      ]
     },
     "execution_count": 25,
     "metadata": {},
     "output_type": "execute_result"
    }
   ],
   "source": [
    "r2_score(lr_pred,y_test)"
   ]
  },
  {
   "cell_type": "code",
   "execution_count": 26,
   "id": "4b4ac88c",
   "metadata": {
    "scrolled": true
   },
   "outputs": [
    {
     "data": {
      "text/html": [
       "<style>#sk-container-id-2 {color: black;}#sk-container-id-2 pre{padding: 0;}#sk-container-id-2 div.sk-toggleable {background-color: white;}#sk-container-id-2 label.sk-toggleable__label {cursor: pointer;display: block;width: 100%;margin-bottom: 0;padding: 0.3em;box-sizing: border-box;text-align: center;}#sk-container-id-2 label.sk-toggleable__label-arrow:before {content: \"▸\";float: left;margin-right: 0.25em;color: #696969;}#sk-container-id-2 label.sk-toggleable__label-arrow:hover:before {color: black;}#sk-container-id-2 div.sk-estimator:hover label.sk-toggleable__label-arrow:before {color: black;}#sk-container-id-2 div.sk-toggleable__content {max-height: 0;max-width: 0;overflow: hidden;text-align: left;background-color: #f0f8ff;}#sk-container-id-2 div.sk-toggleable__content pre {margin: 0.2em;color: black;border-radius: 0.25em;background-color: #f0f8ff;}#sk-container-id-2 input.sk-toggleable__control:checked~div.sk-toggleable__content {max-height: 200px;max-width: 100%;overflow: auto;}#sk-container-id-2 input.sk-toggleable__control:checked~label.sk-toggleable__label-arrow:before {content: \"▾\";}#sk-container-id-2 div.sk-estimator input.sk-toggleable__control:checked~label.sk-toggleable__label {background-color: #d4ebff;}#sk-container-id-2 div.sk-label input.sk-toggleable__control:checked~label.sk-toggleable__label {background-color: #d4ebff;}#sk-container-id-2 input.sk-hidden--visually {border: 0;clip: rect(1px 1px 1px 1px);clip: rect(1px, 1px, 1px, 1px);height: 1px;margin: -1px;overflow: hidden;padding: 0;position: absolute;width: 1px;}#sk-container-id-2 div.sk-estimator {font-family: monospace;background-color: #f0f8ff;border: 1px dotted black;border-radius: 0.25em;box-sizing: border-box;margin-bottom: 0.5em;}#sk-container-id-2 div.sk-estimator:hover {background-color: #d4ebff;}#sk-container-id-2 div.sk-parallel-item::after {content: \"\";width: 100%;border-bottom: 1px solid gray;flex-grow: 1;}#sk-container-id-2 div.sk-label:hover label.sk-toggleable__label {background-color: #d4ebff;}#sk-container-id-2 div.sk-serial::before {content: \"\";position: absolute;border-left: 1px solid gray;box-sizing: border-box;top: 0;bottom: 0;left: 50%;z-index: 0;}#sk-container-id-2 div.sk-serial {display: flex;flex-direction: column;align-items: center;background-color: white;padding-right: 0.2em;padding-left: 0.2em;position: relative;}#sk-container-id-2 div.sk-item {position: relative;z-index: 1;}#sk-container-id-2 div.sk-parallel {display: flex;align-items: stretch;justify-content: center;background-color: white;position: relative;}#sk-container-id-2 div.sk-item::before, #sk-container-id-2 div.sk-parallel-item::before {content: \"\";position: absolute;border-left: 1px solid gray;box-sizing: border-box;top: 0;bottom: 0;left: 50%;z-index: -1;}#sk-container-id-2 div.sk-parallel-item {display: flex;flex-direction: column;z-index: 1;position: relative;background-color: white;}#sk-container-id-2 div.sk-parallel-item:first-child::after {align-self: flex-end;width: 50%;}#sk-container-id-2 div.sk-parallel-item:last-child::after {align-self: flex-start;width: 50%;}#sk-container-id-2 div.sk-parallel-item:only-child::after {width: 0;}#sk-container-id-2 div.sk-dashed-wrapped {border: 1px dashed gray;margin: 0 0.4em 0.5em 0.4em;box-sizing: border-box;padding-bottom: 0.4em;background-color: white;}#sk-container-id-2 div.sk-label label {font-family: monospace;font-weight: bold;display: inline-block;line-height: 1.2em;}#sk-container-id-2 div.sk-label-container {text-align: center;}#sk-container-id-2 div.sk-container {/* jupyter's `normalize.less` sets `[hidden] { display: none; }` but bootstrap.min.css set `[hidden] { display: none !important; }` so we also need the `!important` here to be able to override the default hidden behavior on the sphinx rendered scikit-learn.org. See: https://github.com/scikit-learn/scikit-learn/issues/21755 */display: inline-block !important;position: relative;}#sk-container-id-2 div.sk-text-repr-fallback {display: none;}</style><div id=\"sk-container-id-2\" class=\"sk-top-container\"><div class=\"sk-text-repr-fallback\"><pre>GridSearchCV(estimator=SVR(),\n",
       "             param_grid={&#x27;C&#x27;: [1, 10, 100, 1000], &#x27;gamma&#x27;: [&#x27;scale&#x27;, &#x27;auto&#x27;],\n",
       "                         &#x27;kernel&#x27;: [&#x27;rbf&#x27;]})</pre><b>In a Jupyter environment, please rerun this cell to show the HTML representation or trust the notebook. <br />On GitHub, the HTML representation is unable to render, please try loading this page with nbviewer.org.</b></div><div class=\"sk-container\" hidden><div class=\"sk-item sk-dashed-wrapped\"><div class=\"sk-label-container\"><div class=\"sk-label sk-toggleable\"><input class=\"sk-toggleable__control sk-hidden--visually\" id=\"sk-estimator-id-4\" type=\"checkbox\" ><label for=\"sk-estimator-id-4\" class=\"sk-toggleable__label sk-toggleable__label-arrow\">GridSearchCV</label><div class=\"sk-toggleable__content\"><pre>GridSearchCV(estimator=SVR(),\n",
       "             param_grid={&#x27;C&#x27;: [1, 10, 100, 1000], &#x27;gamma&#x27;: [&#x27;scale&#x27;, &#x27;auto&#x27;],\n",
       "                         &#x27;kernel&#x27;: [&#x27;rbf&#x27;]})</pre></div></div></div><div class=\"sk-parallel\"><div class=\"sk-parallel-item\"><div class=\"sk-item\"><div class=\"sk-label-container\"><div class=\"sk-label sk-toggleable\"><input class=\"sk-toggleable__control sk-hidden--visually\" id=\"sk-estimator-id-5\" type=\"checkbox\" ><label for=\"sk-estimator-id-5\" class=\"sk-toggleable__label sk-toggleable__label-arrow\">estimator: SVR</label><div class=\"sk-toggleable__content\"><pre>SVR()</pre></div></div></div><div class=\"sk-serial\"><div class=\"sk-item\"><div class=\"sk-estimator sk-toggleable\"><input class=\"sk-toggleable__control sk-hidden--visually\" id=\"sk-estimator-id-6\" type=\"checkbox\" ><label for=\"sk-estimator-id-6\" class=\"sk-toggleable__label sk-toggleable__label-arrow\">SVR</label><div class=\"sk-toggleable__content\"><pre>SVR()</pre></div></div></div></div></div></div></div></div></div></div>"
      ],
      "text/plain": [
       "GridSearchCV(estimator=SVR(),\n",
       "             param_grid={'C': [1, 10, 100, 1000], 'gamma': ['scale', 'auto'],\n",
       "                         'kernel': ['rbf']})"
      ]
     },
     "execution_count": 26,
     "metadata": {},
     "output_type": "execute_result"
    }
   ],
   "source": [
    "svm=SVR()\n",
    "svm_params={'kernel':['rbf'],'gamma':['scale','auto'],'C':[1,10,100,1000]}\n",
    "grid_svm=GridSearchCV(svm,param_grid=svm_params)\n",
    "grid_svm.fit(x_train_mm,y_train)"
   ]
  },
  {
   "cell_type": "code",
   "execution_count": 27,
   "id": "aa0afc3d",
   "metadata": {},
   "outputs": [
    {
     "data": {
      "text/plain": [
       "{'C': 10, 'gamma': 'auto', 'kernel': 'rbf'}"
      ]
     },
     "execution_count": 27,
     "metadata": {},
     "output_type": "execute_result"
    }
   ],
   "source": [
    "grid_svm.best_params_"
   ]
  },
  {
   "cell_type": "code",
   "execution_count": 28,
   "id": "b5e97e28",
   "metadata": {},
   "outputs": [
    {
     "data": {
      "text/plain": [
       "0.7538483502637977"
      ]
     },
     "execution_count": 28,
     "metadata": {},
     "output_type": "execute_result"
    }
   ],
   "source": [
    "grid_svm.best_score_"
   ]
  },
  {
   "cell_type": "code",
   "execution_count": 29,
   "id": "7db1be97",
   "metadata": {},
   "outputs": [],
   "source": [
    "svm_pred=grid_svm.predict(x_test_mm)"
   ]
  },
  {
   "cell_type": "code",
   "execution_count": 30,
   "id": "1c377aef",
   "metadata": {},
   "outputs": [
    {
     "data": {
      "text/plain": [
       "0.6670293069741768"
      ]
     },
     "execution_count": 30,
     "metadata": {},
     "output_type": "execute_result"
    }
   ],
   "source": [
    "r2_score(svm_pred,y_test)"
   ]
  },
  {
   "cell_type": "code",
   "execution_count": 31,
   "id": "973ae99a",
   "metadata": {},
   "outputs": [
    {
     "data": {
      "text/html": [
       "<style>#sk-container-id-3 {color: black;}#sk-container-id-3 pre{padding: 0;}#sk-container-id-3 div.sk-toggleable {background-color: white;}#sk-container-id-3 label.sk-toggleable__label {cursor: pointer;display: block;width: 100%;margin-bottom: 0;padding: 0.3em;box-sizing: border-box;text-align: center;}#sk-container-id-3 label.sk-toggleable__label-arrow:before {content: \"▸\";float: left;margin-right: 0.25em;color: #696969;}#sk-container-id-3 label.sk-toggleable__label-arrow:hover:before {color: black;}#sk-container-id-3 div.sk-estimator:hover label.sk-toggleable__label-arrow:before {color: black;}#sk-container-id-3 div.sk-toggleable__content {max-height: 0;max-width: 0;overflow: hidden;text-align: left;background-color: #f0f8ff;}#sk-container-id-3 div.sk-toggleable__content pre {margin: 0.2em;color: black;border-radius: 0.25em;background-color: #f0f8ff;}#sk-container-id-3 input.sk-toggleable__control:checked~div.sk-toggleable__content {max-height: 200px;max-width: 100%;overflow: auto;}#sk-container-id-3 input.sk-toggleable__control:checked~label.sk-toggleable__label-arrow:before {content: \"▾\";}#sk-container-id-3 div.sk-estimator input.sk-toggleable__control:checked~label.sk-toggleable__label {background-color: #d4ebff;}#sk-container-id-3 div.sk-label input.sk-toggleable__control:checked~label.sk-toggleable__label {background-color: #d4ebff;}#sk-container-id-3 input.sk-hidden--visually {border: 0;clip: rect(1px 1px 1px 1px);clip: rect(1px, 1px, 1px, 1px);height: 1px;margin: -1px;overflow: hidden;padding: 0;position: absolute;width: 1px;}#sk-container-id-3 div.sk-estimator {font-family: monospace;background-color: #f0f8ff;border: 1px dotted black;border-radius: 0.25em;box-sizing: border-box;margin-bottom: 0.5em;}#sk-container-id-3 div.sk-estimator:hover {background-color: #d4ebff;}#sk-container-id-3 div.sk-parallel-item::after {content: \"\";width: 100%;border-bottom: 1px solid gray;flex-grow: 1;}#sk-container-id-3 div.sk-label:hover label.sk-toggleable__label {background-color: #d4ebff;}#sk-container-id-3 div.sk-serial::before {content: \"\";position: absolute;border-left: 1px solid gray;box-sizing: border-box;top: 0;bottom: 0;left: 50%;z-index: 0;}#sk-container-id-3 div.sk-serial {display: flex;flex-direction: column;align-items: center;background-color: white;padding-right: 0.2em;padding-left: 0.2em;position: relative;}#sk-container-id-3 div.sk-item {position: relative;z-index: 1;}#sk-container-id-3 div.sk-parallel {display: flex;align-items: stretch;justify-content: center;background-color: white;position: relative;}#sk-container-id-3 div.sk-item::before, #sk-container-id-3 div.sk-parallel-item::before {content: \"\";position: absolute;border-left: 1px solid gray;box-sizing: border-box;top: 0;bottom: 0;left: 50%;z-index: -1;}#sk-container-id-3 div.sk-parallel-item {display: flex;flex-direction: column;z-index: 1;position: relative;background-color: white;}#sk-container-id-3 div.sk-parallel-item:first-child::after {align-self: flex-end;width: 50%;}#sk-container-id-3 div.sk-parallel-item:last-child::after {align-self: flex-start;width: 50%;}#sk-container-id-3 div.sk-parallel-item:only-child::after {width: 0;}#sk-container-id-3 div.sk-dashed-wrapped {border: 1px dashed gray;margin: 0 0.4em 0.5em 0.4em;box-sizing: border-box;padding-bottom: 0.4em;background-color: white;}#sk-container-id-3 div.sk-label label {font-family: monospace;font-weight: bold;display: inline-block;line-height: 1.2em;}#sk-container-id-3 div.sk-label-container {text-align: center;}#sk-container-id-3 div.sk-container {/* jupyter's `normalize.less` sets `[hidden] { display: none; }` but bootstrap.min.css set `[hidden] { display: none !important; }` so we also need the `!important` here to be able to override the default hidden behavior on the sphinx rendered scikit-learn.org. See: https://github.com/scikit-learn/scikit-learn/issues/21755 */display: inline-block !important;position: relative;}#sk-container-id-3 div.sk-text-repr-fallback {display: none;}</style><div id=\"sk-container-id-3\" class=\"sk-top-container\"><div class=\"sk-text-repr-fallback\"><pre>GridSearchCV(estimator=DecisionTreeRegressor(),\n",
       "             param_grid={&#x27;criterion&#x27;: [&#x27;squarred_error&#x27;, &#x27;friedman_mse&#x27;,\n",
       "                                       &#x27;absolute_eror&#x27;, &#x27;poisson&#x27;],\n",
       "                         &#x27;splitter&#x27;: [&#x27;best&#x27;, &#x27;random&#x27;]})</pre><b>In a Jupyter environment, please rerun this cell to show the HTML representation or trust the notebook. <br />On GitHub, the HTML representation is unable to render, please try loading this page with nbviewer.org.</b></div><div class=\"sk-container\" hidden><div class=\"sk-item sk-dashed-wrapped\"><div class=\"sk-label-container\"><div class=\"sk-label sk-toggleable\"><input class=\"sk-toggleable__control sk-hidden--visually\" id=\"sk-estimator-id-7\" type=\"checkbox\" ><label for=\"sk-estimator-id-7\" class=\"sk-toggleable__label sk-toggleable__label-arrow\">GridSearchCV</label><div class=\"sk-toggleable__content\"><pre>GridSearchCV(estimator=DecisionTreeRegressor(),\n",
       "             param_grid={&#x27;criterion&#x27;: [&#x27;squarred_error&#x27;, &#x27;friedman_mse&#x27;,\n",
       "                                       &#x27;absolute_eror&#x27;, &#x27;poisson&#x27;],\n",
       "                         &#x27;splitter&#x27;: [&#x27;best&#x27;, &#x27;random&#x27;]})</pre></div></div></div><div class=\"sk-parallel\"><div class=\"sk-parallel-item\"><div class=\"sk-item\"><div class=\"sk-label-container\"><div class=\"sk-label sk-toggleable\"><input class=\"sk-toggleable__control sk-hidden--visually\" id=\"sk-estimator-id-8\" type=\"checkbox\" ><label for=\"sk-estimator-id-8\" class=\"sk-toggleable__label sk-toggleable__label-arrow\">estimator: DecisionTreeRegressor</label><div class=\"sk-toggleable__content\"><pre>DecisionTreeRegressor()</pre></div></div></div><div class=\"sk-serial\"><div class=\"sk-item\"><div class=\"sk-estimator sk-toggleable\"><input class=\"sk-toggleable__control sk-hidden--visually\" id=\"sk-estimator-id-9\" type=\"checkbox\" ><label for=\"sk-estimator-id-9\" class=\"sk-toggleable__label sk-toggleable__label-arrow\">DecisionTreeRegressor</label><div class=\"sk-toggleable__content\"><pre>DecisionTreeRegressor()</pre></div></div></div></div></div></div></div></div></div></div>"
      ],
      "text/plain": [
       "GridSearchCV(estimator=DecisionTreeRegressor(),\n",
       "             param_grid={'criterion': ['squarred_error', 'friedman_mse',\n",
       "                                       'absolute_eror', 'poisson'],\n",
       "                         'splitter': ['best', 'random']})"
      ]
     },
     "execution_count": 31,
     "metadata": {},
     "output_type": "execute_result"
    }
   ],
   "source": [
    "dt=DecisionTreeRegressor()\n",
    "dt_params={'criterion':['squarred_error','friedman_mse','absolute_eror','poisson'],'splitter':['best','random']}\n",
    "grid_dt=GridSearchCV(dt,param_grid=dt_params)\n",
    "grid_dt.fit(x_train_mm,y_train)"
   ]
  },
  {
   "cell_type": "code",
   "execution_count": 32,
   "id": "fcc4537d",
   "metadata": {},
   "outputs": [
    {
     "data": {
      "text/plain": [
       "{'criterion': 'poisson', 'splitter': 'best'}"
      ]
     },
     "execution_count": 32,
     "metadata": {},
     "output_type": "execute_result"
    }
   ],
   "source": [
    "grid_dt.best_params_"
   ]
  },
  {
   "cell_type": "code",
   "execution_count": 33,
   "id": "eb9c9cb9",
   "metadata": {},
   "outputs": [
    {
     "data": {
      "text/plain": [
       "0.5623229515852608"
      ]
     },
     "execution_count": 33,
     "metadata": {},
     "output_type": "execute_result"
    }
   ],
   "source": [
    "grid_dt.best_score_"
   ]
  },
  {
   "cell_type": "code",
   "execution_count": 34,
   "id": "6780c533",
   "metadata": {},
   "outputs": [],
   "source": [
    "dt_pred=grid_dt.predict(x_test_mm)"
   ]
  },
  {
   "cell_type": "code",
   "execution_count": 35,
   "id": "ecef5197",
   "metadata": {},
   "outputs": [
    {
     "data": {
      "text/plain": [
       "0.5257489196143226"
      ]
     },
     "execution_count": 35,
     "metadata": {},
     "output_type": "execute_result"
    }
   ],
   "source": [
    "r2_score(dt_pred,y_test)"
   ]
  },
  {
   "cell_type": "code",
   "execution_count": 36,
   "id": "f9b428c8",
   "metadata": {},
   "outputs": [
    {
     "data": {
      "text/html": [
       "<style>#sk-container-id-4 {color: black;}#sk-container-id-4 pre{padding: 0;}#sk-container-id-4 div.sk-toggleable {background-color: white;}#sk-container-id-4 label.sk-toggleable__label {cursor: pointer;display: block;width: 100%;margin-bottom: 0;padding: 0.3em;box-sizing: border-box;text-align: center;}#sk-container-id-4 label.sk-toggleable__label-arrow:before {content: \"▸\";float: left;margin-right: 0.25em;color: #696969;}#sk-container-id-4 label.sk-toggleable__label-arrow:hover:before {color: black;}#sk-container-id-4 div.sk-estimator:hover label.sk-toggleable__label-arrow:before {color: black;}#sk-container-id-4 div.sk-toggleable__content {max-height: 0;max-width: 0;overflow: hidden;text-align: left;background-color: #f0f8ff;}#sk-container-id-4 div.sk-toggleable__content pre {margin: 0.2em;color: black;border-radius: 0.25em;background-color: #f0f8ff;}#sk-container-id-4 input.sk-toggleable__control:checked~div.sk-toggleable__content {max-height: 200px;max-width: 100%;overflow: auto;}#sk-container-id-4 input.sk-toggleable__control:checked~label.sk-toggleable__label-arrow:before {content: \"▾\";}#sk-container-id-4 div.sk-estimator input.sk-toggleable__control:checked~label.sk-toggleable__label {background-color: #d4ebff;}#sk-container-id-4 div.sk-label input.sk-toggleable__control:checked~label.sk-toggleable__label {background-color: #d4ebff;}#sk-container-id-4 input.sk-hidden--visually {border: 0;clip: rect(1px 1px 1px 1px);clip: rect(1px, 1px, 1px, 1px);height: 1px;margin: -1px;overflow: hidden;padding: 0;position: absolute;width: 1px;}#sk-container-id-4 div.sk-estimator {font-family: monospace;background-color: #f0f8ff;border: 1px dotted black;border-radius: 0.25em;box-sizing: border-box;margin-bottom: 0.5em;}#sk-container-id-4 div.sk-estimator:hover {background-color: #d4ebff;}#sk-container-id-4 div.sk-parallel-item::after {content: \"\";width: 100%;border-bottom: 1px solid gray;flex-grow: 1;}#sk-container-id-4 div.sk-label:hover label.sk-toggleable__label {background-color: #d4ebff;}#sk-container-id-4 div.sk-serial::before {content: \"\";position: absolute;border-left: 1px solid gray;box-sizing: border-box;top: 0;bottom: 0;left: 50%;z-index: 0;}#sk-container-id-4 div.sk-serial {display: flex;flex-direction: column;align-items: center;background-color: white;padding-right: 0.2em;padding-left: 0.2em;position: relative;}#sk-container-id-4 div.sk-item {position: relative;z-index: 1;}#sk-container-id-4 div.sk-parallel {display: flex;align-items: stretch;justify-content: center;background-color: white;position: relative;}#sk-container-id-4 div.sk-item::before, #sk-container-id-4 div.sk-parallel-item::before {content: \"\";position: absolute;border-left: 1px solid gray;box-sizing: border-box;top: 0;bottom: 0;left: 50%;z-index: -1;}#sk-container-id-4 div.sk-parallel-item {display: flex;flex-direction: column;z-index: 1;position: relative;background-color: white;}#sk-container-id-4 div.sk-parallel-item:first-child::after {align-self: flex-end;width: 50%;}#sk-container-id-4 div.sk-parallel-item:last-child::after {align-self: flex-start;width: 50%;}#sk-container-id-4 div.sk-parallel-item:only-child::after {width: 0;}#sk-container-id-4 div.sk-dashed-wrapped {border: 1px dashed gray;margin: 0 0.4em 0.5em 0.4em;box-sizing: border-box;padding-bottom: 0.4em;background-color: white;}#sk-container-id-4 div.sk-label label {font-family: monospace;font-weight: bold;display: inline-block;line-height: 1.2em;}#sk-container-id-4 div.sk-label-container {text-align: center;}#sk-container-id-4 div.sk-container {/* jupyter's `normalize.less` sets `[hidden] { display: none; }` but bootstrap.min.css set `[hidden] { display: none !important; }` so we also need the `!important` here to be able to override the default hidden behavior on the sphinx rendered scikit-learn.org. See: https://github.com/scikit-learn/scikit-learn/issues/21755 */display: inline-block !important;position: relative;}#sk-container-id-4 div.sk-text-repr-fallback {display: none;}</style><div id=\"sk-container-id-4\" class=\"sk-top-container\"><div class=\"sk-text-repr-fallback\"><pre>GridSearchCV(estimator=RandomForestRegressor(),\n",
       "             param_grid={&#x27;criterion&#x27;: [&#x27;squarred_error&#x27;, &#x27;friedman_mse&#x27;,\n",
       "                                       &#x27;absolute_eror&#x27;, &#x27;poisson&#x27;],\n",
       "                         &#x27;n_estimators&#x27;: [10, 25, 50, 75, 100]})</pre><b>In a Jupyter environment, please rerun this cell to show the HTML representation or trust the notebook. <br />On GitHub, the HTML representation is unable to render, please try loading this page with nbviewer.org.</b></div><div class=\"sk-container\" hidden><div class=\"sk-item sk-dashed-wrapped\"><div class=\"sk-label-container\"><div class=\"sk-label sk-toggleable\"><input class=\"sk-toggleable__control sk-hidden--visually\" id=\"sk-estimator-id-10\" type=\"checkbox\" ><label for=\"sk-estimator-id-10\" class=\"sk-toggleable__label sk-toggleable__label-arrow\">GridSearchCV</label><div class=\"sk-toggleable__content\"><pre>GridSearchCV(estimator=RandomForestRegressor(),\n",
       "             param_grid={&#x27;criterion&#x27;: [&#x27;squarred_error&#x27;, &#x27;friedman_mse&#x27;,\n",
       "                                       &#x27;absolute_eror&#x27;, &#x27;poisson&#x27;],\n",
       "                         &#x27;n_estimators&#x27;: [10, 25, 50, 75, 100]})</pre></div></div></div><div class=\"sk-parallel\"><div class=\"sk-parallel-item\"><div class=\"sk-item\"><div class=\"sk-label-container\"><div class=\"sk-label sk-toggleable\"><input class=\"sk-toggleable__control sk-hidden--visually\" id=\"sk-estimator-id-11\" type=\"checkbox\" ><label for=\"sk-estimator-id-11\" class=\"sk-toggleable__label sk-toggleable__label-arrow\">estimator: RandomForestRegressor</label><div class=\"sk-toggleable__content\"><pre>RandomForestRegressor()</pre></div></div></div><div class=\"sk-serial\"><div class=\"sk-item\"><div class=\"sk-estimator sk-toggleable\"><input class=\"sk-toggleable__control sk-hidden--visually\" id=\"sk-estimator-id-12\" type=\"checkbox\" ><label for=\"sk-estimator-id-12\" class=\"sk-toggleable__label sk-toggleable__label-arrow\">RandomForestRegressor</label><div class=\"sk-toggleable__content\"><pre>RandomForestRegressor()</pre></div></div></div></div></div></div></div></div></div></div>"
      ],
      "text/plain": [
       "GridSearchCV(estimator=RandomForestRegressor(),\n",
       "             param_grid={'criterion': ['squarred_error', 'friedman_mse',\n",
       "                                       'absolute_eror', 'poisson'],\n",
       "                         'n_estimators': [10, 25, 50, 75, 100]})"
      ]
     },
     "execution_count": 36,
     "metadata": {},
     "output_type": "execute_result"
    }
   ],
   "source": [
    "rf=RandomForestRegressor()\n",
    "rf_params={'n_estimators':[10,25,50,75,100],'criterion':['squarred_error','friedman_mse','absolute_eror','poisson']}\n",
    "grid_rf=GridSearchCV(rf, param_grid=rf_params)\n",
    "grid_rf.fit(x_train_mm,y_train)"
   ]
  },
  {
   "cell_type": "code",
   "execution_count": 37,
   "id": "4bfc95f3",
   "metadata": {},
   "outputs": [],
   "source": [
    "rf_pred=grid_rf.predict(x_test_mm)"
   ]
  },
  {
   "cell_type": "code",
   "execution_count": 38,
   "id": "a265991c",
   "metadata": {},
   "outputs": [
    {
     "data": {
      "text/plain": [
       "0.6575039868004777"
      ]
     },
     "execution_count": 38,
     "metadata": {},
     "output_type": "execute_result"
    }
   ],
   "source": [
    "r2_score(rf_pred, y_test)"
   ]
  },
  {
   "cell_type": "code",
   "execution_count": 39,
   "id": "125ba95f",
   "metadata": {},
   "outputs": [
    {
     "data": {
      "text/plain": [
       "{'criterion': 'poisson', 'n_estimators': 75}"
      ]
     },
     "execution_count": 39,
     "metadata": {},
     "output_type": "execute_result"
    }
   ],
   "source": [
    "grid_rf.best_params_"
   ]
  },
  {
   "cell_type": "code",
   "execution_count": 40,
   "id": "dc6afc52",
   "metadata": {},
   "outputs": [
    {
     "data": {
      "text/plain": [
       "0.7419766274375925"
      ]
     },
     "execution_count": 40,
     "metadata": {},
     "output_type": "execute_result"
    }
   ],
   "source": [
    "grid_rf.best_score_"
   ]
  },
  {
   "cell_type": "code",
   "execution_count": 41,
   "id": "6121b2ff",
   "metadata": {},
   "outputs": [
    {
     "data": {
      "text/html": [
       "<style>#sk-container-id-5 {color: black;}#sk-container-id-5 pre{padding: 0;}#sk-container-id-5 div.sk-toggleable {background-color: white;}#sk-container-id-5 label.sk-toggleable__label {cursor: pointer;display: block;width: 100%;margin-bottom: 0;padding: 0.3em;box-sizing: border-box;text-align: center;}#sk-container-id-5 label.sk-toggleable__label-arrow:before {content: \"▸\";float: left;margin-right: 0.25em;color: #696969;}#sk-container-id-5 label.sk-toggleable__label-arrow:hover:before {color: black;}#sk-container-id-5 div.sk-estimator:hover label.sk-toggleable__label-arrow:before {color: black;}#sk-container-id-5 div.sk-toggleable__content {max-height: 0;max-width: 0;overflow: hidden;text-align: left;background-color: #f0f8ff;}#sk-container-id-5 div.sk-toggleable__content pre {margin: 0.2em;color: black;border-radius: 0.25em;background-color: #f0f8ff;}#sk-container-id-5 input.sk-toggleable__control:checked~div.sk-toggleable__content {max-height: 200px;max-width: 100%;overflow: auto;}#sk-container-id-5 input.sk-toggleable__control:checked~label.sk-toggleable__label-arrow:before {content: \"▾\";}#sk-container-id-5 div.sk-estimator input.sk-toggleable__control:checked~label.sk-toggleable__label {background-color: #d4ebff;}#sk-container-id-5 div.sk-label input.sk-toggleable__control:checked~label.sk-toggleable__label {background-color: #d4ebff;}#sk-container-id-5 input.sk-hidden--visually {border: 0;clip: rect(1px 1px 1px 1px);clip: rect(1px, 1px, 1px, 1px);height: 1px;margin: -1px;overflow: hidden;padding: 0;position: absolute;width: 1px;}#sk-container-id-5 div.sk-estimator {font-family: monospace;background-color: #f0f8ff;border: 1px dotted black;border-radius: 0.25em;box-sizing: border-box;margin-bottom: 0.5em;}#sk-container-id-5 div.sk-estimator:hover {background-color: #d4ebff;}#sk-container-id-5 div.sk-parallel-item::after {content: \"\";width: 100%;border-bottom: 1px solid gray;flex-grow: 1;}#sk-container-id-5 div.sk-label:hover label.sk-toggleable__label {background-color: #d4ebff;}#sk-container-id-5 div.sk-serial::before {content: \"\";position: absolute;border-left: 1px solid gray;box-sizing: border-box;top: 0;bottom: 0;left: 50%;z-index: 0;}#sk-container-id-5 div.sk-serial {display: flex;flex-direction: column;align-items: center;background-color: white;padding-right: 0.2em;padding-left: 0.2em;position: relative;}#sk-container-id-5 div.sk-item {position: relative;z-index: 1;}#sk-container-id-5 div.sk-parallel {display: flex;align-items: stretch;justify-content: center;background-color: white;position: relative;}#sk-container-id-5 div.sk-item::before, #sk-container-id-5 div.sk-parallel-item::before {content: \"\";position: absolute;border-left: 1px solid gray;box-sizing: border-box;top: 0;bottom: 0;left: 50%;z-index: -1;}#sk-container-id-5 div.sk-parallel-item {display: flex;flex-direction: column;z-index: 1;position: relative;background-color: white;}#sk-container-id-5 div.sk-parallel-item:first-child::after {align-self: flex-end;width: 50%;}#sk-container-id-5 div.sk-parallel-item:last-child::after {align-self: flex-start;width: 50%;}#sk-container-id-5 div.sk-parallel-item:only-child::after {width: 0;}#sk-container-id-5 div.sk-dashed-wrapped {border: 1px dashed gray;margin: 0 0.4em 0.5em 0.4em;box-sizing: border-box;padding-bottom: 0.4em;background-color: white;}#sk-container-id-5 div.sk-label label {font-family: monospace;font-weight: bold;display: inline-block;line-height: 1.2em;}#sk-container-id-5 div.sk-label-container {text-align: center;}#sk-container-id-5 div.sk-container {/* jupyter's `normalize.less` sets `[hidden] { display: none; }` but bootstrap.min.css set `[hidden] { display: none !important; }` so we also need the `!important` here to be able to override the default hidden behavior on the sphinx rendered scikit-learn.org. See: https://github.com/scikit-learn/scikit-learn/issues/21755 */display: inline-block !important;position: relative;}#sk-container-id-5 div.sk-text-repr-fallback {display: none;}</style><div id=\"sk-container-id-5\" class=\"sk-top-container\"><div class=\"sk-text-repr-fallback\"><pre>LinearRegression()</pre><b>In a Jupyter environment, please rerun this cell to show the HTML representation or trust the notebook. <br />On GitHub, the HTML representation is unable to render, please try loading this page with nbviewer.org.</b></div><div class=\"sk-container\" hidden><div class=\"sk-item\"><div class=\"sk-estimator sk-toggleable\"><input class=\"sk-toggleable__control sk-hidden--visually\" id=\"sk-estimator-id-13\" type=\"checkbox\" checked><label for=\"sk-estimator-id-13\" class=\"sk-toggleable__label sk-toggleable__label-arrow\">LinearRegression</label><div class=\"sk-toggleable__content\"><pre>LinearRegression()</pre></div></div></div></div></div>"
      ],
      "text/plain": [
       "LinearRegression()"
      ]
     },
     "execution_count": 41,
     "metadata": {},
     "output_type": "execute_result"
    }
   ],
   "source": [
    "Lr=LinearRegression()\n",
    "Lr.fit(x_train_mm,y_train)"
   ]
  },
  {
   "cell_type": "code",
   "execution_count": 42,
   "id": "39afc743",
   "metadata": {},
   "outputs": [],
   "source": [
    "Lr_pr=Lr.predict(x_test_mm)"
   ]
  },
  {
   "cell_type": "code",
   "execution_count": 43,
   "id": "3cd6f219",
   "metadata": {},
   "outputs": [
    {
     "data": {
      "text/plain": [
       "0.6296751964274256"
      ]
     },
     "execution_count": 43,
     "metadata": {},
     "output_type": "execute_result"
    }
   ],
   "source": [
    "r2_score(Lr_pr, y_test)"
   ]
  },
  {
   "cell_type": "code",
   "execution_count": 44,
   "id": "f6454857",
   "metadata": {},
   "outputs": [
    {
     "data": {
      "text/html": [
       "<style>#sk-container-id-6 {color: black;}#sk-container-id-6 pre{padding: 0;}#sk-container-id-6 div.sk-toggleable {background-color: white;}#sk-container-id-6 label.sk-toggleable__label {cursor: pointer;display: block;width: 100%;margin-bottom: 0;padding: 0.3em;box-sizing: border-box;text-align: center;}#sk-container-id-6 label.sk-toggleable__label-arrow:before {content: \"▸\";float: left;margin-right: 0.25em;color: #696969;}#sk-container-id-6 label.sk-toggleable__label-arrow:hover:before {color: black;}#sk-container-id-6 div.sk-estimator:hover label.sk-toggleable__label-arrow:before {color: black;}#sk-container-id-6 div.sk-toggleable__content {max-height: 0;max-width: 0;overflow: hidden;text-align: left;background-color: #f0f8ff;}#sk-container-id-6 div.sk-toggleable__content pre {margin: 0.2em;color: black;border-radius: 0.25em;background-color: #f0f8ff;}#sk-container-id-6 input.sk-toggleable__control:checked~div.sk-toggleable__content {max-height: 200px;max-width: 100%;overflow: auto;}#sk-container-id-6 input.sk-toggleable__control:checked~label.sk-toggleable__label-arrow:before {content: \"▾\";}#sk-container-id-6 div.sk-estimator input.sk-toggleable__control:checked~label.sk-toggleable__label {background-color: #d4ebff;}#sk-container-id-6 div.sk-label input.sk-toggleable__control:checked~label.sk-toggleable__label {background-color: #d4ebff;}#sk-container-id-6 input.sk-hidden--visually {border: 0;clip: rect(1px 1px 1px 1px);clip: rect(1px, 1px, 1px, 1px);height: 1px;margin: -1px;overflow: hidden;padding: 0;position: absolute;width: 1px;}#sk-container-id-6 div.sk-estimator {font-family: monospace;background-color: #f0f8ff;border: 1px dotted black;border-radius: 0.25em;box-sizing: border-box;margin-bottom: 0.5em;}#sk-container-id-6 div.sk-estimator:hover {background-color: #d4ebff;}#sk-container-id-6 div.sk-parallel-item::after {content: \"\";width: 100%;border-bottom: 1px solid gray;flex-grow: 1;}#sk-container-id-6 div.sk-label:hover label.sk-toggleable__label {background-color: #d4ebff;}#sk-container-id-6 div.sk-serial::before {content: \"\";position: absolute;border-left: 1px solid gray;box-sizing: border-box;top: 0;bottom: 0;left: 50%;z-index: 0;}#sk-container-id-6 div.sk-serial {display: flex;flex-direction: column;align-items: center;background-color: white;padding-right: 0.2em;padding-left: 0.2em;position: relative;}#sk-container-id-6 div.sk-item {position: relative;z-index: 1;}#sk-container-id-6 div.sk-parallel {display: flex;align-items: stretch;justify-content: center;background-color: white;position: relative;}#sk-container-id-6 div.sk-item::before, #sk-container-id-6 div.sk-parallel-item::before {content: \"\";position: absolute;border-left: 1px solid gray;box-sizing: border-box;top: 0;bottom: 0;left: 50%;z-index: -1;}#sk-container-id-6 div.sk-parallel-item {display: flex;flex-direction: column;z-index: 1;position: relative;background-color: white;}#sk-container-id-6 div.sk-parallel-item:first-child::after {align-self: flex-end;width: 50%;}#sk-container-id-6 div.sk-parallel-item:last-child::after {align-self: flex-start;width: 50%;}#sk-container-id-6 div.sk-parallel-item:only-child::after {width: 0;}#sk-container-id-6 div.sk-dashed-wrapped {border: 1px dashed gray;margin: 0 0.4em 0.5em 0.4em;box-sizing: border-box;padding-bottom: 0.4em;background-color: white;}#sk-container-id-6 div.sk-label label {font-family: monospace;font-weight: bold;display: inline-block;line-height: 1.2em;}#sk-container-id-6 div.sk-label-container {text-align: center;}#sk-container-id-6 div.sk-container {/* jupyter's `normalize.less` sets `[hidden] { display: none; }` but bootstrap.min.css set `[hidden] { display: none !important; }` so we also need the `!important` here to be able to override the default hidden behavior on the sphinx rendered scikit-learn.org. See: https://github.com/scikit-learn/scikit-learn/issues/21755 */display: inline-block !important;position: relative;}#sk-container-id-6 div.sk-text-repr-fallback {display: none;}</style><div id=\"sk-container-id-6\" class=\"sk-top-container\"><div class=\"sk-text-repr-fallback\"><pre>SVR()</pre><b>In a Jupyter environment, please rerun this cell to show the HTML representation or trust the notebook. <br />On GitHub, the HTML representation is unable to render, please try loading this page with nbviewer.org.</b></div><div class=\"sk-container\" hidden><div class=\"sk-item\"><div class=\"sk-estimator sk-toggleable\"><input class=\"sk-toggleable__control sk-hidden--visually\" id=\"sk-estimator-id-14\" type=\"checkbox\" checked><label for=\"sk-estimator-id-14\" class=\"sk-toggleable__label sk-toggleable__label-arrow\">SVR</label><div class=\"sk-toggleable__content\"><pre>SVR()</pre></div></div></div></div></div>"
      ],
      "text/plain": [
       "SVR()"
      ]
     },
     "execution_count": 44,
     "metadata": {},
     "output_type": "execute_result"
    }
   ],
   "source": [
    "Svm=SVR()\n",
    "Svm.fit(x_train_mm,y_train)"
   ]
  },
  {
   "cell_type": "code",
   "execution_count": 45,
   "id": "3340a591",
   "metadata": {},
   "outputs": [],
   "source": [
    "Svm_pr=Svm.predict(x_test_mm)"
   ]
  },
  {
   "cell_type": "code",
   "execution_count": 46,
   "id": "9972f706",
   "metadata": {},
   "outputs": [
    {
     "data": {
      "text/plain": [
       "0.5535342043173561"
      ]
     },
     "execution_count": 46,
     "metadata": {},
     "output_type": "execute_result"
    }
   ],
   "source": [
    "r2_score(Svm_pr, y_test)"
   ]
  },
  {
   "cell_type": "code",
   "execution_count": 47,
   "id": "c7767c61",
   "metadata": {},
   "outputs": [
    {
     "data": {
      "text/html": [
       "<style>#sk-container-id-7 {color: black;}#sk-container-id-7 pre{padding: 0;}#sk-container-id-7 div.sk-toggleable {background-color: white;}#sk-container-id-7 label.sk-toggleable__label {cursor: pointer;display: block;width: 100%;margin-bottom: 0;padding: 0.3em;box-sizing: border-box;text-align: center;}#sk-container-id-7 label.sk-toggleable__label-arrow:before {content: \"▸\";float: left;margin-right: 0.25em;color: #696969;}#sk-container-id-7 label.sk-toggleable__label-arrow:hover:before {color: black;}#sk-container-id-7 div.sk-estimator:hover label.sk-toggleable__label-arrow:before {color: black;}#sk-container-id-7 div.sk-toggleable__content {max-height: 0;max-width: 0;overflow: hidden;text-align: left;background-color: #f0f8ff;}#sk-container-id-7 div.sk-toggleable__content pre {margin: 0.2em;color: black;border-radius: 0.25em;background-color: #f0f8ff;}#sk-container-id-7 input.sk-toggleable__control:checked~div.sk-toggleable__content {max-height: 200px;max-width: 100%;overflow: auto;}#sk-container-id-7 input.sk-toggleable__control:checked~label.sk-toggleable__label-arrow:before {content: \"▾\";}#sk-container-id-7 div.sk-estimator input.sk-toggleable__control:checked~label.sk-toggleable__label {background-color: #d4ebff;}#sk-container-id-7 div.sk-label input.sk-toggleable__control:checked~label.sk-toggleable__label {background-color: #d4ebff;}#sk-container-id-7 input.sk-hidden--visually {border: 0;clip: rect(1px 1px 1px 1px);clip: rect(1px, 1px, 1px, 1px);height: 1px;margin: -1px;overflow: hidden;padding: 0;position: absolute;width: 1px;}#sk-container-id-7 div.sk-estimator {font-family: monospace;background-color: #f0f8ff;border: 1px dotted black;border-radius: 0.25em;box-sizing: border-box;margin-bottom: 0.5em;}#sk-container-id-7 div.sk-estimator:hover {background-color: #d4ebff;}#sk-container-id-7 div.sk-parallel-item::after {content: \"\";width: 100%;border-bottom: 1px solid gray;flex-grow: 1;}#sk-container-id-7 div.sk-label:hover label.sk-toggleable__label {background-color: #d4ebff;}#sk-container-id-7 div.sk-serial::before {content: \"\";position: absolute;border-left: 1px solid gray;box-sizing: border-box;top: 0;bottom: 0;left: 50%;z-index: 0;}#sk-container-id-7 div.sk-serial {display: flex;flex-direction: column;align-items: center;background-color: white;padding-right: 0.2em;padding-left: 0.2em;position: relative;}#sk-container-id-7 div.sk-item {position: relative;z-index: 1;}#sk-container-id-7 div.sk-parallel {display: flex;align-items: stretch;justify-content: center;background-color: white;position: relative;}#sk-container-id-7 div.sk-item::before, #sk-container-id-7 div.sk-parallel-item::before {content: \"\";position: absolute;border-left: 1px solid gray;box-sizing: border-box;top: 0;bottom: 0;left: 50%;z-index: -1;}#sk-container-id-7 div.sk-parallel-item {display: flex;flex-direction: column;z-index: 1;position: relative;background-color: white;}#sk-container-id-7 div.sk-parallel-item:first-child::after {align-self: flex-end;width: 50%;}#sk-container-id-7 div.sk-parallel-item:last-child::after {align-self: flex-start;width: 50%;}#sk-container-id-7 div.sk-parallel-item:only-child::after {width: 0;}#sk-container-id-7 div.sk-dashed-wrapped {border: 1px dashed gray;margin: 0 0.4em 0.5em 0.4em;box-sizing: border-box;padding-bottom: 0.4em;background-color: white;}#sk-container-id-7 div.sk-label label {font-family: monospace;font-weight: bold;display: inline-block;line-height: 1.2em;}#sk-container-id-7 div.sk-label-container {text-align: center;}#sk-container-id-7 div.sk-container {/* jupyter's `normalize.less` sets `[hidden] { display: none; }` but bootstrap.min.css set `[hidden] { display: none !important; }` so we also need the `!important` here to be able to override the default hidden behavior on the sphinx rendered scikit-learn.org. See: https://github.com/scikit-learn/scikit-learn/issues/21755 */display: inline-block !important;position: relative;}#sk-container-id-7 div.sk-text-repr-fallback {display: none;}</style><div id=\"sk-container-id-7\" class=\"sk-top-container\"><div class=\"sk-text-repr-fallback\"><pre>DecisionTreeRegressor()</pre><b>In a Jupyter environment, please rerun this cell to show the HTML representation or trust the notebook. <br />On GitHub, the HTML representation is unable to render, please try loading this page with nbviewer.org.</b></div><div class=\"sk-container\" hidden><div class=\"sk-item\"><div class=\"sk-estimator sk-toggleable\"><input class=\"sk-toggleable__control sk-hidden--visually\" id=\"sk-estimator-id-15\" type=\"checkbox\" checked><label for=\"sk-estimator-id-15\" class=\"sk-toggleable__label sk-toggleable__label-arrow\">DecisionTreeRegressor</label><div class=\"sk-toggleable__content\"><pre>DecisionTreeRegressor()</pre></div></div></div></div></div>"
      ],
      "text/plain": [
       "DecisionTreeRegressor()"
      ]
     },
     "execution_count": 47,
     "metadata": {},
     "output_type": "execute_result"
    }
   ],
   "source": [
    "Dt=DecisionTreeRegressor()\n",
    "Dt.fit(x_train_mm,y_train)"
   ]
  },
  {
   "cell_type": "code",
   "execution_count": 48,
   "id": "0386b574",
   "metadata": {},
   "outputs": [],
   "source": [
    "Dt_pr=Dt.predict(x_test_mm)"
   ]
  },
  {
   "cell_type": "code",
   "execution_count": 49,
   "id": "23f72ca6",
   "metadata": {},
   "outputs": [
    {
     "data": {
      "text/plain": [
       "0.5114839510660288"
      ]
     },
     "execution_count": 49,
     "metadata": {},
     "output_type": "execute_result"
    }
   ],
   "source": [
    "r2_score(Dt_pr, y_test)"
   ]
  },
  {
   "cell_type": "code",
   "execution_count": 51,
   "id": "51022afe",
   "metadata": {},
   "outputs": [
    {
     "data": {
      "text/plain": [
       "Text(0.5, 1.0, 'Correlation Heatmap')"
      ]
     },
     "execution_count": 51,
     "metadata": {},
     "output_type": "execute_result"
    },
    {
     "data": {
      "image/png": "[encoded data removed]",
      "text/plain": [
       "<Figure size 1500x1500 with 2 Axes>"
      ]
     },
     "metadata": {},
     "output_type": "display_data"
    }
   ],
   "source": [
    " _, ax = plt.subplots(figsize=(15, 15))\n",
    "sns.heatmap(data=dff.corr(), ax=ax, annot=True)\n",
    "ax.set_title('Correlation Heatmap')"
   ]
  },
  {
   "cell_type": "code",
   "execution_count": null,
   "id": "b151b4d5",
   "metadata": {},
   "outputs": [],
   "source": []
  }
 ],
 "metadata": {
  "kernelspec": {
   "display_name": "Python 3 (ipykernel)",
   "language": "python",
   "name": "python3"
  },
  "language_info": {
   "codemirror_mode": {
    "name": "ipython",
    "version": 3
   },
   "file_extension": ".py",
   "mimetype": "text/x-python",
   "name": "python",
   "nbconvert_exporter": "python",
   "pygments_lexer": "ipython3",
   "version": "3.10.9"
  }
 },
 "nbformat": 4,
 "nbformat_minor": 5
}
